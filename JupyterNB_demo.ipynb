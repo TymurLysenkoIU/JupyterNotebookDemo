{
 "cells": [
  {
   "cell_type": "markdown",
   "metadata": {},
   "source": [
    "# Solve the following task\n",
    "![task](./img/task.bmp)\n",
    "\n",
    "Let's represent the task graphically and see what can be done to solve it"
   ]
  },
  {
   "cell_type": "markdown",
   "metadata": {},
   "source": [
    "Import some stuff in order to be able to build plots:"
   ]
  },
  {
   "cell_type": "code",
   "execution_count": 1,
   "metadata": {},
   "outputs": [],
   "source": [
    "%matplotlib inline\n",
    "import matplotlib.pyplot as plt\n",
    "plt.style.use('seaborn-whitegrid')"
   ]
  },
  {
   "cell_type": "markdown",
   "metadata": {},
   "source": [
    "Set lines in space using general equation form:"
   ]
  },
  {
   "cell_type": "code",
   "execution_count": 2,
   "metadata": {},
   "outputs": [],
   "source": [
    "line1 = {\"A\": 7.0, \"B\": 1.0, \"C\": 0.0}\n",
    "line2 = {\"A\": 1.0, \"B\": -1.0, \"C\": 8.0}\n",
    "point_J = (-1, 3)"
   ]
  },
  {
   "cell_type": "markdown",
   "metadata": {},
   "source": [
    "Build the plot:"
   ]
  },
  {
   "cell_type": "code",
   "execution_count": 3,
   "metadata": {},
   "outputs": [
    {
     "data": {
      "text/plain": [
       "<function matplotlib.pyplot.show>"
      ]
     },
     "execution_count": 3,
     "metadata": {},
     "output_type": "execute_result"
    },
    {
     "data": {
      "image/png": "[encoded data removed]",
      "text/plain": [
       "<Figure size 1440x720 with 1 Axes>"
      ]
     },
     "metadata": {},
     "output_type": "display_data"
    }
   ],
   "source": [
    "# set x-s and y-s for graphical objects we want to build\n",
    "x = [i for i in range(-10, 11)]\n",
    "y_line1 = [(-(line1[\"A\"] / line1[\"B\"]) * i) -\\\n",
    "               (line1[\"C\"] / line1[\"B\"]) for i in x]\n",
    "y_line2 = [(-(line2[\"A\"] / line2[\"B\"]) * i) -\\\n",
    "               (line2[\"C\"] / line2[\"B\"]) for i in x]\n",
    "x_J = [point_J[0]]\n",
    "y_J = [point_J[1]]\n",
    "\n",
    "# pre-configure plot\n",
    "plt.figure(figsize=(20,10))\n",
    "\n",
    "# set up functions\n",
    "plt.plot(x, y_line1)\n",
    "plt.plot(x, y_line2)\n",
    "plt.plot(x_J, y_J, \"ro\")\n",
    "plt.plot([i for i in range(-10, 12)], [0 for i in range(-10, 12)], \"k-\")\n",
    "plt.plot([0 for i in range(-10, 12)], [i for i in range(-10, 12)], \"k-\")\n",
    "\n",
    "# post-configure plot\n",
    "plt.legend([\"%(A)dx + %(B)dy + %(C)d = 0\"\\\n",
    "                % {\"A\": line1[\"A\"], \"B\": line1[\"B\"], \"C\": line1[\"C\"]},\\\n",
    "            \"%(A)dx + %(B)dy + %(C)d = 0\"\\\n",
    "                % {\"A\": line2[\"A\"], \"B\": line2[\"B\"], \"C\": line2[\"C\"]},\\\n",
    "            \"J(%(x)d; %(y)d)\" % {\"x\": point_J[0], \"y\": point_J[1]}])\n",
    "plt.xlim(-10, 11)\n",
    "plt.ylim(-10, 11)\n",
    "plt.gca().set_aspect('equal', adjustable='box')\n",
    "\n",
    "# show the plot\n",
    "plt.show"
   ]
  },
  {
   "cell_type": "markdown",
   "metadata": {},
   "source": [
    "If we will look at plot, we'll see that we're able to find the circle radius by solving the system of equations, which consists of the distance between the circle center and the given point and the 2 given lines. The system looks as follows:\n",
    "\n",
    "\\begin{cases}\n",
    "\\frac{A_{1}x_{0} + B_{1}y_{0} + C_{1}}{\\sqrt{A_{1}^2 + B_{1}^2}} = R\n",
    "\\\\\n",
    "\\frac{A_{2}x_{0} + B_{2}y_{0} + C_{2}}{\\sqrt{A_{2}^2 + B_{2}^2}} = R\n",
    "\\\\\n",
    "\\sqrt{(x_{J} - x_{0})^2 + (y_{J} - y_{0})^2} = R\n",
    "\\end{cases}"
   ]
  },
  {
   "cell_type": "markdown",
   "metadata": {},
   "source": [
    "In terms of given values, the equation will look as follows:"
   ]
  },
  {
   "cell_type": "code",
   "execution_count": 4,
   "metadata": {},
   "outputs": [
    {
     "data": {
      "text/latex": [
       "\n",
       "\\begin{cases}\n",
       "\\frac{7x_{0} + 1y_{0} + 0}{\\sqrt{7^2 + 1^2}} = R\n",
       "\\\\\n",
       "\\frac{1x_{0} + -1y_{0} + 8}{\\sqrt{1^2 + -1^2}} = R\n",
       "\\\\\n",
       "\\sqrt{(-1 - x_{0})^2 + (3 - y_{0})^2} = R\n",
       "\\end{cases}\n"
      ],
      "text/plain": [
       "<IPython.core.display.Latex object>"
      ]
     },
     "execution_count": 4,
     "metadata": {},
     "output_type": "execute_result"
    }
   ],
   "source": [
    "from IPython.display import Latex\n",
    "Latex(r\"\"\"\n",
    "\\begin{cases}\n",
    "\\frac{%(A1)dx_{0} + %(B1)dy_{0} + %(C1)d}{\\sqrt{%(A1)d^2 + %(B1)d^2}} = R\n",
    "\\\\\n",
    "\\frac{%(A2)dx_{0} + %(B2)dy_{0} + %(C2)d}{\\sqrt{%(A2)d^2 + %(B2)d^2}} = R\n",
    "\\\\\n",
    "\\sqrt{(%(xJ)d - x_{0})^2 + (%(yJ)d - y_{0})^2} = R\n",
    "\\end{cases}\n",
    "\"\"\" % {\"A1\": line1[\"A\"], \"B1\": line1[\"B\"], \"C1\": line1[\"C\"],\\\n",
    "      \"A2\": line2[\"A\"], \"B2\": line2[\"B\"], \"C2\": line2[\"C\"],\\\n",
    "      \"xJ\": point_J[0], \"yJ\": point_J[1]})"
   ]
  },
  {
   "cell_type": "markdown",
   "metadata": {},
   "source": [
    "Now solve the system:"
   ]
  },
  {
   "cell_type": "code",
   "execution_count": 5,
   "metadata": {},
   "outputs": [
    {
     "name": "stdout",
     "output_type": "stream",
     "text": [
      "x0 = [16.26781]\n",
      "y0 = [1.544072]\n",
      " R = [16.32197]\n"
     ]
    }
   ],
   "source": [
    "from gekko import GEKKO\n",
    "s = GEKKO()\n",
    "\n",
    "x0 = s.Var(value=1)\n",
    "y0 = s.Var(value=1)\n",
    "R = s.Var(value=1)\n",
    "\n",
    "s.Equation(((line1[\"A\"] * x0 + line1[\"B\"] * y0 + line1[\"C\"])\\\n",
    "            /\n",
    "            s.sqrt(line1[\"A\"] ** 2 + line1[\"B\"] ** 2)) == R)\n",
    "s.Equation(((line2[\"A\"] * x0 + line2[\"B\"] * y0 + line2[\"C\"])\\\n",
    "            /\n",
    "            s.sqrt(line2[\"A\"] ** 2 + line2[\"B\"] ** 2)) == R)\n",
    "s.Equation(((s.sqrt(point_J[0] - x0) ** 2) + ((point_J[1] - y0) ** 2)) == R)\n",
    "\n",
    "s.solve(disp=False)\n",
    "print(\"x0 = %(x0)s\\ny0 = %(y0)s\\n R = %(R)s\"\\\n",
    "      % {\"x0\": str(x0.value), \"y0\": str(y0.value), \"R\": str(R.value)})"
   ]
  },
  {
   "cell_type": "markdown",
   "metadata": {},
   "source": [
    "The task is solved!"
   ]
  }
 ],
 "metadata": {
  "kernelspec": {
   "display_name": "Python 2",
   "language": "python",
   "name": "python2"
  },
  "language_info": {
   "codemirror_mode": {
    "name": "ipython",
    "version": 2
   },
   "file_extension": ".py",
   "mimetype": "text/x-python",
   "name": "python",
   "nbconvert_exporter": "python",
   "pygments_lexer": "ipython2",
   "version": "2.7.15"
  }
 },
 "nbformat": 4,
 "nbformat_minor": 2
}
